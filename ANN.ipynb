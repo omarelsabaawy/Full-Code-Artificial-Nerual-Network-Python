﻿  {
   "cell_type": "markdown",
   "metadata": {},
   "source": [
    "## Apply linear classifier on your chosen application"
   ]
  },
  {
   "cell_type": "markdown",
   "metadata": {},
   "source": [
    "### Using ANN algorithm to determine if the NCAA player's shot is scored or missed according to each situation "
   ]
  },
  {
   "cell_type": "markdown",
   "metadata": {},
   "source": [
    "### The data used is a sample of real data which its attributes are for players in the NCAA"
   ]
  },
  {
   "cell_type": "markdown",
   "metadata": {},
   "source": [
    "#### The used features are SHOT_DIST which is the distance the player shot from and the SHOT_TYPE which is the the type of shot of the player shot either 2 points or 3 points and the last thing SHOT_RESULT which is 0 or 1 either the player got the shot(1)or not(0) "
   ]
  },
  {
   "cell_type": "code",
   "execution_count": 1,
   "metadata": {},
   "outputs": [],
   "source": [
    "import pandas as pd\n",
    "import numpy as np"
   ]
  },
  {
   "cell_type": "code",
   "execution_count": 2,
   "metadata": {},
   "outputs": [],
   "source": [
    "data = pd.read_csv('TheShootinglogs.csv')"
   ]
  },
  {
   "cell_type": "code",
   "execution_count": 3,
   "metadata": {},
   "outputs": [
    {
     "data": {
      "text/html": [
       "<div>\n",
       "<style scoped>\n",
       "    .dataframe tbody tr th:only-of-type {\n",
       "        vertical-align: middle;\n",
       "    }\n",
       "\n",
       "    .dataframe tbody tr th {\n",
       "        vertical-align: top;\n",
       "    }\n",
       "\n",
       "    .dataframe thead th {\n",
       "        text-align: right;\n",
       "    }\n",
       "</style>\n",
       "<table border=\"1\" class=\"dataframe\">\n",
       "  <thead>\n",
       "    <tr style=\"text-align: right;\">\n",
       "      <th></th>\n",
       "      <th>Unnamed: 0</th>\n",
       "      <th>Unnamed: 0.1</th>\n",
       "      <th>Unnamed: 0.1.1</th>\n",
       "      <th>GAME_ID</th>\n",
       "      <th>MATCHUP</th>\n",
       "      <th>LOCATION</th>\n",
       "      <th>W</th>\n",
       "      <th>FINAL_MARGIN</th>\n",
       "      <th>SHOT_NUMBER</th>\n",
       "      <th>PERIOD</th>\n",
       "      <th>...</th>\n",
       "      <th>SHOT_DIST</th>\n",
       "      <th>PTS_TYPE</th>\n",
       "      <th>SHOT_RESULT</th>\n",
       "      <th>CLOSEST_DEFENDER</th>\n",
       "      <th>CLOSEST_DEFENDER_PLAYER_ID</th>\n",
       "      <th>CLOSE_DEF_DIST</th>\n",
       "      <th>FGM</th>\n",
       "      <th>PTS</th>\n",
       "      <th>player_name</th>\n",
       "      <th>player_id</th>\n",
       "    </tr>\n",
       "  </thead>\n",
       "  <tbody>\n",
       "    <tr>\n",
       "      <th>0</th>\n",
       "      <td>0</td>\n",
       "      <td>0</td>\n",
       "      <td>0</td>\n",
       "      <td>21400899</td>\n",
       "      <td>MAR 04, 2015 - CHA @ BKN</td>\n",
       "      <td>A</td>\n",
       "      <td>W</td>\n",
       "      <td>24</td>\n",
       "      <td>1</td>\n",
       "      <td>1</td>\n",
       "      <td>...</td>\n",
       "      <td>7.7</td>\n",
       "      <td>2</td>\n",
       "      <td>1</td>\n",
       "      <td>Anderson, Alan</td>\n",
       "      <td>101187</td>\n",
       "      <td>1.3</td>\n",
       "      <td>1</td>\n",
       "      <td>2</td>\n",
       "      <td>brian roberts</td>\n",
       "      <td>203148</td>\n",
       "    </tr>\n",
       "    <tr>\n",
       "      <th>1</th>\n",
       "      <td>1</td>\n",
       "      <td>1</td>\n",
       "      <td>1</td>\n",
       "      <td>21400899</td>\n",
       "      <td>MAR 04, 2015 - CHA @ BKN</td>\n",
       "      <td>A</td>\n",
       "      <td>W</td>\n",
       "      <td>24</td>\n",
       "      <td>2</td>\n",
       "      <td>1</td>\n",
       "      <td>...</td>\n",
       "      <td>28.2</td>\n",
       "      <td>3</td>\n",
       "      <td>-1</td>\n",
       "      <td>Bogdanovic, Bojan</td>\n",
       "      <td>202711</td>\n",
       "      <td>6.1</td>\n",
       "      <td>0</td>\n",
       "      <td>0</td>\n",
       "      <td>brian roberts</td>\n",
       "      <td>203148</td>\n",
       "    </tr>\n",
       "    <tr>\n",
       "      <th>2</th>\n",
       "      <td>2</td>\n",
       "      <td>2</td>\n",
       "      <td>2</td>\n",
       "      <td>21400899</td>\n",
       "      <td>MAR 04, 2015 - CHA @ BKN</td>\n",
       "      <td>A</td>\n",
       "      <td>W</td>\n",
       "      <td>24</td>\n",
       "      <td>3</td>\n",
       "      <td>1</td>\n",
       "      <td>...</td>\n",
       "      <td>10.1</td>\n",
       "      <td>2</td>\n",
       "      <td>-1</td>\n",
       "      <td>Bogdanovic, Bojan</td>\n",
       "      <td>202711</td>\n",
       "      <td>0.9</td>\n",
       "      <td>0</td>\n",
       "      <td>0</td>\n",
       "      <td>brian roberts</td>\n",
       "      <td>203148</td>\n",
       "    </tr>\n",
       "    <tr>\n",
       "      <th>3</th>\n",
       "      <td>3</td>\n",
       "      <td>3</td>\n",
       "      <td>3</td>\n",
       "      <td>21400899</td>\n",
       "      <td>MAR 04, 2015 - CHA @ BKN</td>\n",
       "      <td>A</td>\n",
       "      <td>W</td>\n",
       "      <td>24</td>\n",
       "      <td>4</td>\n",
       "      <td>2</td>\n",
       "      <td>...</td>\n",
       "      <td>17.2</td>\n",
       "      <td>2</td>\n",
       "      <td>-1</td>\n",
       "      <td>Brown, Markel</td>\n",
       "      <td>203900</td>\n",
       "      <td>3.4</td>\n",
       "      <td>0</td>\n",
       "      <td>0</td>\n",
       "      <td>brian roberts</td>\n",
       "      <td>203148</td>\n",
       "    </tr>\n",
       "    <tr>\n",
       "      <th>4</th>\n",
       "      <td>4</td>\n",
       "      <td>4</td>\n",
       "      <td>4</td>\n",
       "      <td>21400899</td>\n",
       "      <td>MAR 04, 2015 - CHA @ BKN</td>\n",
       "      <td>A</td>\n",
       "      <td>W</td>\n",
       "      <td>24</td>\n",
       "      <td>5</td>\n",
       "      <td>2</td>\n",
       "      <td>...</td>\n",
       "      <td>3.7</td>\n",
       "      <td>2</td>\n",
       "      <td>-1</td>\n",
       "      <td>Young, Thaddeus</td>\n",
       "      <td>201152</td>\n",
       "      <td>1.1</td>\n",
       "      <td>0</td>\n",
       "      <td>0</td>\n",
       "      <td>brian roberts</td>\n",
       "      <td>203148</td>\n",
       "    </tr>\n",
       "    <tr>\n",
       "      <th>5</th>\n",
       "      <td>5</td>\n",
       "      <td>5</td>\n",
       "      <td>5</td>\n",
       "      <td>21400899</td>\n",
       "      <td>MAR 04, 2015 - CHA @ BKN</td>\n",
       "      <td>A</td>\n",
       "      <td>W</td>\n",
       "      <td>24</td>\n",
       "      <td>6</td>\n",
       "      <td>2</td>\n",
       "      <td>...</td>\n",
       "      <td>18.4</td>\n",
       "      <td>2</td>\n",
       "      <td>-1</td>\n",
       "      <td>Williams, Deron</td>\n",
       "      <td>101114</td>\n",
       "      <td>2.6</td>\n",
       "      <td>0</td>\n",
       "      <td>0</td>\n",
       "      <td>brian roberts</td>\n",
       "      <td>203148</td>\n",
       "    </tr>\n",
       "    <tr>\n",
       "      <th>6</th>\n",
       "      <td>6</td>\n",
       "      <td>6</td>\n",
       "      <td>6</td>\n",
       "      <td>21400899</td>\n",
       "      <td>MAR 04, 2015 - CHA @ BKN</td>\n",
       "      <td>A</td>\n",
       "      <td>W</td>\n",
       "      <td>24</td>\n",
       "      <td>7</td>\n",
       "      <td>4</td>\n",
       "      <td>...</td>\n",
       "      <td>20.7</td>\n",
       "      <td>2</td>\n",
       "      <td>-1</td>\n",
       "      <td>Jack, Jarrett</td>\n",
       "      <td>101127</td>\n",
       "      <td>6.1</td>\n",
       "      <td>0</td>\n",
       "      <td>0</td>\n",
       "      <td>brian roberts</td>\n",
       "      <td>203148</td>\n",
       "    </tr>\n",
       "    <tr>\n",
       "      <th>7</th>\n",
       "      <td>7</td>\n",
       "      <td>7</td>\n",
       "      <td>7</td>\n",
       "      <td>21400899</td>\n",
       "      <td>MAR 04, 2015 - CHA @ BKN</td>\n",
       "      <td>A</td>\n",
       "      <td>W</td>\n",
       "      <td>24</td>\n",
       "      <td>8</td>\n",
       "      <td>4</td>\n",
       "      <td>...</td>\n",
       "      <td>3.5</td>\n",
       "      <td>2</td>\n",
       "      <td>1</td>\n",
       "      <td>Plumlee, Mason</td>\n",
       "      <td>203486</td>\n",
       "      <td>2.1</td>\n",
       "      <td>1</td>\n",
       "      <td>2</td>\n",
       "      <td>brian roberts</td>\n",
       "      <td>203148</td>\n",
       "    </tr>\n",
       "    <tr>\n",
       "      <th>8</th>\n",
       "      <td>8</td>\n",
       "      <td>8</td>\n",
       "      <td>8</td>\n",
       "      <td>21400899</td>\n",
       "      <td>MAR 04, 2015 - CHA @ BKN</td>\n",
       "      <td>A</td>\n",
       "      <td>W</td>\n",
       "      <td>24</td>\n",
       "      <td>9</td>\n",
       "      <td>4</td>\n",
       "      <td>...</td>\n",
       "      <td>24.6</td>\n",
       "      <td>3</td>\n",
       "      <td>-1</td>\n",
       "      <td>Morris, Darius</td>\n",
       "      <td>202721</td>\n",
       "      <td>7.3</td>\n",
       "      <td>0</td>\n",
       "      <td>0</td>\n",
       "      <td>brian roberts</td>\n",
       "      <td>203148</td>\n",
       "    </tr>\n",
       "    <tr>\n",
       "      <th>9</th>\n",
       "      <td>9</td>\n",
       "      <td>9</td>\n",
       "      <td>9</td>\n",
       "      <td>21400890</td>\n",
       "      <td>MAR 03, 2015 - CHA vs. LAL</td>\n",
       "      <td>H</td>\n",
       "      <td>W</td>\n",
       "      <td>1</td>\n",
       "      <td>1</td>\n",
       "      <td>2</td>\n",
       "      <td>...</td>\n",
       "      <td>22.4</td>\n",
       "      <td>3</td>\n",
       "      <td>-1</td>\n",
       "      <td>Ellington, Wayne</td>\n",
       "      <td>201961</td>\n",
       "      <td>19.8</td>\n",
       "      <td>0</td>\n",
       "      <td>0</td>\n",
       "      <td>brian roberts</td>\n",
       "      <td>203148</td>\n",
       "    </tr>\n",
       "  </tbody>\n",
       "</table>\n",
       "<p>10 rows × 24 columns</p>\n",
       "</div>"
      ],
      "text/plain": [
       "   Unnamed: 0  Unnamed: 0.1  Unnamed: 0.1.1   GAME_ID  \\\n",
       "0           0             0               0  21400899   \n",
       "1           1             1               1  21400899   \n",
       "2           2             2               2  21400899   \n",
       "3           3             3               3  21400899   \n",
       "4           4             4               4  21400899   \n",
       "5           5             5               5  21400899   \n",
       "6           6             6               6  21400899   \n",
       "7           7             7               7  21400899   \n",
       "8           8             8               8  21400899   \n",
       "9           9             9               9  21400890   \n",
       "\n",
       "                      MATCHUP LOCATION  W  FINAL_MARGIN  SHOT_NUMBER  PERIOD  \\\n",
       "0    MAR 04, 2015 - CHA @ BKN        A  W            24            1       1   \n",
       "1    MAR 04, 2015 - CHA @ BKN        A  W            24            2       1   \n",
       "2    MAR 04, 2015 - CHA @ BKN        A  W            24            3       1   \n",
       "3    MAR 04, 2015 - CHA @ BKN        A  W            24            4       2   \n",
       "4    MAR 04, 2015 - CHA @ BKN        A  W            24            5       2   \n",
       "5    MAR 04, 2015 - CHA @ BKN        A  W            24            6       2   \n",
       "6    MAR 04, 2015 - CHA @ BKN        A  W            24            7       4   \n",
       "7    MAR 04, 2015 - CHA @ BKN        A  W            24            8       4   \n",
       "8    MAR 04, 2015 - CHA @ BKN        A  W            24            9       4   \n",
       "9  MAR 03, 2015 - CHA vs. LAL        H  W             1            1       2   \n",
       "\n",
       "   ... SHOT_DIST  PTS_TYPE  SHOT_RESULT   CLOSEST_DEFENDER  \\\n",
       "0  ...       7.7         2            1     Anderson, Alan   \n",
       "1  ...      28.2         3           -1  Bogdanovic, Bojan   \n",
       "2  ...      10.1         2           -1  Bogdanovic, Bojan   \n",
       "3  ...      17.2         2           -1      Brown, Markel   \n",
       "4  ...       3.7         2           -1    Young, Thaddeus   \n",
       "5  ...      18.4         2           -1    Williams, Deron   \n",
       "6  ...      20.7         2           -1      Jack, Jarrett   \n",
       "7  ...       3.5         2            1     Plumlee, Mason   \n",
       "8  ...      24.6         3           -1     Morris, Darius   \n",
       "9  ...      22.4         3           -1   Ellington, Wayne   \n",
       "\n",
       "   CLOSEST_DEFENDER_PLAYER_ID  CLOSE_DEF_DIST  FGM PTS    player_name  \\\n",
       "0                      101187             1.3    1   2  brian roberts   \n",
       "1                      202711             6.1    0   0  brian roberts   \n",
       "2                      202711             0.9    0   0  brian roberts   \n",
       "3                      203900             3.4    0   0  brian roberts   \n",
       "4                      201152             1.1    0   0  brian roberts   \n",
       "5                      101114             2.6    0   0  brian roberts   \n",
       "6                      101127             6.1    0   0  brian roberts   \n",
       "7                      203486             2.1    1   2  brian roberts   \n",
       "8                      202721             7.3    0   0  brian roberts   \n",
       "9                      201961            19.8    0   0  brian roberts   \n",
       "\n",
       "   player_id  \n",
       "0     203148  \n",
       "1     203148  \n",
       "2     203148  \n",
       "3     203148  \n",
       "4     203148  \n",
       "5     203148  \n",
       "6     203148  \n",
       "7     203148  \n",
       "8     203148  \n",
       "9     203148  \n",
       "\n",
       "[10 rows x 24 columns]"
      ]
     },
     "execution_count": 3,
     "metadata": {},
     "output_type": "execute_result"
    }
   ],
   "source": [
    "data"
   ]
  },
  {
   "cell_type": "code",
   "execution_count": 4,
   "metadata": {},
   "outputs": [
    {
     "name": "stdout",
     "output_type": "stream",
     "text": [
      "<class 'pandas.core.frame.DataFrame'>\n",
      "RangeIndex: 10 entries, 0 to 9\n",
      "Data columns (total 24 columns):\n",
      " #   Column                      Non-Null Count  Dtype  \n",
      "---  ------                      --------------  -----  \n",
      " 0   Unnamed: 0                  10 non-null     int64  \n",
      " 1   Unnamed: 0.1                10 non-null     int64  \n",
      " 2   Unnamed: 0.1.1              10 non-null     int64  \n",
      " 3   GAME_ID                     10 non-null     int64  \n",
      " 4   MATCHUP                     10 non-null     object \n",
      " 5   LOCATION                    10 non-null     object \n",
      " 6   W                           10 non-null     object \n",
      " 7   FINAL_MARGIN                10 non-null     int64  \n",
      " 8   SHOT_NUMBER                 10 non-null     int64  \n",
      " 9   PERIOD                      10 non-null     int64  \n",
      " 10  GAME_CLOCK                  10 non-null     object \n",
      " 11  SHOT_CLOCK                  9 non-null      float64\n",
      " 12  DRIBBLES                    10 non-null     int64  \n",
      " 13  TOUCH_TIME                  10 non-null     float64\n",
      " 14  SHOT_DIST                   10 non-null     float64\n",
      " 15  PTS_TYPE                    10 non-null     int64  \n",
      " 16  SHOT_RESULT                 10 non-null     int64  \n",
      " 17  CLOSEST_DEFENDER            10 non-null     object \n",
      " 18  CLOSEST_DEFENDER_PLAYER_ID  10 non-null     int64  \n",
      " 19  CLOSE_DEF_DIST              10 non-null     float64\n",
      " 20  FGM                         10 non-null     int64  \n",
      " 21  PTS                         10 non-null     int64  \n",
      " 22  player_name                 10 non-null     object \n",
      " 23  player_id                   10 non-null     int64  \n",
      "dtypes: float64(4), int64(14), object(6)\n",
      "memory usage: 2.0+ KB\n"
     ]
    }
   ],
   "source": [
    "data.info()"
   ]
  },
  {
   "cell_type": "code",
   "execution_count": 5,
   "metadata": {},
   "outputs": [],
   "source": [
    "#function to determine the sign\n",
    "\n",
    "def DetermineTheSign(number):\n",
    "    if number > 0:\n",
    "        return 1\n",
    "    else:\n",
    "        return -1\n",
    "    "
   ]
  },
  {
   "cell_type": "code",
   "execution_count": 6,
   "metadata": {},
   "outputs": [],
   "source": [
    "# The ANN Implementation function\n",
    "# x features // t target data // w weights // b bias\n",
    "\n",
    "def ANN(x , t , w , b):\n",
    "    rr = 1\n",
    "    count = 0\n",
    "    while(rr): \n",
    "        rr=0\n",
    "        for i in range(len(w)):\n",
    "            # sum of products  = sigma(x1*w1 + x2*w2 + x3*w3 + ...... + xn*wn) + w0 where w0 = bias\n",
    "            SumOfProducts = sum(x[i]*w) + b\n",
    "            y = DetermineTheSign(SumOfProducts)\n",
    "            if t[i] != y:\n",
    "                rr = 1\n",
    "                # equation is wNew = wOld + (t-a)*xi where a = y\n",
    "                w = w +(((t[i]-y))*x[i])\n",
    "            count += 1\n",
    "    print(f\"The best weights are {w} after {count} number of iterations\")\n",
    "    return w"
   ]
  },
  {
   "cell_type": "markdown",
   "metadata": {},
   "source": [
    "#### Features will be 2 the shot distance and the shot point type either 2 or 3 point"
   ]
  },
  {
   "cell_type": "code",
   "execution_count": 7,
   "metadata": {},
   "outputs": [],
   "source": [
    "x = data[[\"SHOT_DIST\",\"PTS_TYPE\"]].values"
   ]
  },
  {
   "cell_type": "code",
   "execution_count": 8,
   "metadata": {},
   "outputs": [],
   "source": [
    "t = data[[\"SHOT_RESULT\"]].values"
   ]
  },
  {
   "cell_type": "markdown",
   "metadata": {},
   "source": [
    "#### the weights, bias ,and the learning rate"
   ]
  },
  {
   "cell_type": "code",
   "execution_count": 9,
   "metadata": {},
   "outputs": [],
   "source": [
    "w = np.random.randint(-5 , 6 , size = 2)"
   ]
  },
  {
   "cell_type": "markdown",
   "metadata": {},
   "source": [
    "#### Letting the bias = 0"
   ]
  },
  {
   "cell_type": "code",
   "execution_count": 10,
   "metadata": {},
   "outputs": [],
   "source": [
    "b = 0"
   ]
  },
  {
   "cell_type": "markdown",
   "metadata": {},
   "source": [
    "#### Trainning our ANN model"
   ]
  },
  {
   "cell_type": "code",
   "execution_count": 11,
   "metadata": {},
   "outputs": [
    {
     "name": "stdout",
     "output_type": "stream",
     "text": [
      "The best weights are [-5.8 41. ] after 38 number of iterations\n"
     ]
    }
   ],
   "source": [
    "weights = ANN(x , t , w , b)"
   ]
  },
  {
   "cell_type": "markdown",
   "metadata": {},
   "source": [
    "## After learing the model now we can predict where the shot will be made and where will be missed"
   ]
  },
  {
   "cell_type": "markdown",
   "metadata": {},
   "source": [
    "### At distance 7.7\n",
    "### Shot points type 2 point"
   ]
  },
  {
   "cell_type": "code",
   "execution_count": 12,
   "metadata": {
    "scrolled": true
   },
   "outputs": [
    {
     "name": "stdout",
     "output_type": "stream",
     "text": [
      "1\n"
     ]
    }
   ],
   "source": [
    "x_test = [7.7, 2]\n",
    "prediction = DetermineTheSign(sum(x_test*weights))\n",
    "print(prediction)"
   ]
  },
  {
   "cell_type": "markdown",
   "metadata": {},
   "source": [
    "### therefore the player can score from this place"
   ]
  }
 ],
 "metadata": {
  "kernelspec": {
   "display_name": "Python 3",
   "language": "python",
   "name": "python3"
  },
  "language_info": {
   "codemirror_mode": {
    "name": "ipython",
    "version": 3
   },
   "file_extension": ".py",
   "mimetype": "text/x-python",
   "name": "python",
   "nbconvert_exporter": "python",
   "pygments_lexer": "ipython3",
   "version": "3.8.5"
  }
 },
 "nbformat": 4,
 "nbformat_minor": 4
}
