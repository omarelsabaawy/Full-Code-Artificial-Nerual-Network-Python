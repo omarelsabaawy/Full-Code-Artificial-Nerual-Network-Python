{
 "cells": [
  {
   "cell_type": "markdown",
   "metadata": {},
   "source": [
    "### Using ANN algorithm to determine if the NCAA player's shot is scored or missed according to each situation "
   ]
  },
  {
   "cell_type": "code",
   "execution_count": 1,
   "metadata": {},
   "outputs": [],
   "source": [
    "import pandas as pd\n",
    "import numpy as np"
   ]
  },
  {
   "cell_type": "code",
   "execution_count": 2,
   "metadata": {},
   "outputs": [],
   "source": [
    "data = pd.read_csv('theshootingLogs.csv')"
   ]
  },
  {
   "cell_type": "code",
   "execution_count": 3,
   "metadata": {},
   "outputs": [],
   "source": [
    "#function to determine the sign\n",
    "\n",
    "def DetermineTheSign(number):\n",
    "    if number > 0:\n",
    "        return 1\n",
    "    else:\n",
    "        return -1\n",
    "    "
   ]
  },
  {
   "cell_type": "code",
   "execution_count": 4,
   "metadata": {},
   "outputs": [],
   "source": [
    "# The ANN Implementation function\n",
    "# x features // t target data // w weights // b bias\n",
    "\n",
    "def ANN(x , t , w , b):\n",
    "    rr = 1\n",
    "    count = 0\n",
    "    while(rr): \n",
    "        rr=0\n",
    "        for i in range(len(w)):\n",
    "            # sum of products  = sigma(x1*w1 + x2*w2 + x3*w3 + ...... + xn*wn) + w0 where w0 = bias\n",
    "            SumOfProducts = sum(x[i]*w) + b\n",
    "            y = DetermineTheSign(SumOfProducts)\n",
    "            if t[i] != y:\n",
    "                rr = 1\n",
    "                # equation is wNew = wOld + (t-a)*xi where a = y\n",
    "                w = w +(((t[i]-y))*x[i])\n",
    "            count += 1\n",
    "    print(f\"The best weights are {w} after {count} number of iterations\")\n",
    "    return w"
   ]
  },
  {
   "cell_type": "markdown",
   "metadata": {},
   "source": [
    "#### Features will be 2 the shot distance and the shot point type either 2 or 3 point"
   ]
  },
  {
   "cell_type": "code",
   "execution_count": 5,
   "metadata": {},
   "outputs": [],
   "source": [
    "x = data[[\"SHOT_DIST\",\"PTS_TYPE\"]].values"
   ]
  },
  {
   "cell_type": "code",
   "execution_count": 6,
   "metadata": {},
   "outputs": [],
   "source": [
    "t = data[[\"SHOT_RESULT\"]].values"
   ]
  },
  {
   "cell_type": "markdown",
   "metadata": {},
   "source": [
    "#### the weights, bias ,and the learning rate"
   ]
  },
  {
   "cell_type": "code",
   "execution_count": 7,
   "metadata": {},
   "outputs": [],
   "source": [
    "w = np.random.randint(-5 , 6 , size = 2)"
   ]
  },
  {
   "cell_type": "markdown",
   "metadata": {},
   "source": [
    "#### Letting the bias = 0"
   ]
  },
  {
   "cell_type": "code",
   "execution_count": 8,
   "metadata": {},
   "outputs": [],
   "source": [
    "b = 0"
   ]
  },
  {
   "cell_type": "markdown",
   "metadata": {},
   "source": [
    "#### Trainning our ANN model"
   ]
  },
  {
   "cell_type": "code",
   "execution_count": 9,
   "metadata": {},
   "outputs": [
    {
     "name": "stdout",
     "output_type": "stream",
     "text": [
      "The best weights are [-7.8 45. ] after 38 number of iterations\n"
     ]
    }
   ],
   "source": [
    "weights = ANN(x , t , w , b)"
   ]
  },
  {
   "cell_type": "markdown",
   "metadata": {},
   "source": [
    "## After learing the model now we can predict where the shot will be made and where will be missed"
   ]
  },
  {
   "cell_type": "markdown",
   "metadata": {},
   "source": [
    "### At distance 7.7\n",
    "### Shot points type 2 point"
   ]
  },
  {
   "cell_type": "code",
   "execution_count": 10,
   "metadata": {
    "scrolled": true
   },
   "outputs": [
    {
     "name": "stdout",
     "output_type": "stream",
     "text": [
      "1\n"
     ]
    }
   ],
   "source": [
    "x_test = [7.7, 2]\n",
    "prediction = DetermineTheSign(sum(x_test*weights))\n",
    "print(prediction)"
   ]
  },
  {
   "cell_type": "markdown",
   "metadata": {},
   "source": [
    "### therefore the player can score from this place"
   ]
  }
 ],
 "metadata": {
  "kernelspec": {
   "display_name": "Python 3",
   "language": "python",
   "name": "python3"
  },
  "language_info": {
   "codemirror_mode": {
    "name": "ipython",
    "version": 3
   },
   "file_extension": ".py",
   "mimetype": "text/x-python",
   "name": "python",
   "nbconvert_exporter": "python",
   "pygments_lexer": "ipython3",
   "version": "3.8.5"
  }
 },
 "nbformat": 4,
 "nbformat_minor": 4
}
